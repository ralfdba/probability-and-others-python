{
 "cells": [
  {
   "cell_type": "code",
   "execution_count": 15,
   "id": "6ba1c861-ac91-4e76-b2cf-ac7c05af19b1",
   "metadata": {},
   "outputs": [],
   "source": [
    "from nltk.corpus import brown\n",
    "from nltk.lm.preprocessing import padded_everygram_pipeline\n",
    "from nltk.lm import WittenBellInterpolated\n",
    "from nltk.util import ngrams"
   ]
  },
  {
   "cell_type": "code",
   "execution_count": 19,
   "id": "c29f098f-a7ff-4dc9-a276-e8c61e60e173",
   "metadata": {},
   "outputs": [
    {
     "data": {
      "text/plain": [
       "8629"
      ]
     },
     "execution_count": 19,
     "metadata": {},
     "output_type": "execute_result"
    }
   ],
   "source": [
    "ngram_order = 3\n",
    "train_data, vocab_data = padded_everygram_pipeline( ngram_order, brown.sents(categories='reviews') )\n",
    "lm = WittenBellInterpolated( ngram_order )\n",
    "lm.fit( train_data, vocab_data )\n",
    "len(lm.vocab)"
   ]
  },
  {
   "cell_type": "code",
   "execution_count": 21,
   "id": "5ec23c6c-2004-4795-85bb-543b6772c249",
   "metadata": {},
   "outputs": [
    {
     "data": {
      "text/plain": [
       "0.0"
      ]
     },
     "execution_count": 21,
     "metadata": {},
     "output_type": "execute_result"
    }
   ],
   "source": [
    "round(lm.score(train_data, vocab_data), 6)"
   ]
  },
  {
   "cell_type": "code",
   "execution_count": 12,
   "id": "b2d5c65d-75f9-463c-82ab-f3e95a209621",
   "metadata": {},
   "outputs": [
    {
     "data": {
      "text/plain": [
       "8.73045642053696"
      ]
     },
     "execution_count": 12,
     "metadata": {},
     "output_type": "execute_result"
    }
   ],
   "source": [
    "a = ngrams(\"this is a sent\".split(), 3)\n",
    "round(lm.entropy(a), 14)"
   ]
  },
  {
   "cell_type": "code",
   "execution_count": null,
   "id": "5def54bd-e5e6-4d24-9bc3-20d37644d12d",
   "metadata": {},
   "outputs": [],
   "source": []
  }
 ],
 "metadata": {
  "kernelspec": {
   "display_name": "Python 3 (ipykernel)",
   "language": "python",
   "name": "python3"
  },
  "language_info": {
   "codemirror_mode": {
    "name": "ipython",
    "version": 3
   },
   "file_extension": ".py",
   "mimetype": "text/x-python",
   "name": "python",
   "nbconvert_exporter": "python",
   "pygments_lexer": "ipython3",
   "version": "3.11.0"
  }
 },
 "nbformat": 4,
 "nbformat_minor": 5
}
