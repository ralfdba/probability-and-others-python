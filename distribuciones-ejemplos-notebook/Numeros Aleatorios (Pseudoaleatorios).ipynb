{
 "cells": [
  {
   "cell_type": "code",
   "execution_count": 6,
   "id": "e394de94-90d3-4b69-907d-d58f2b728621",
   "metadata": {},
   "outputs": [],
   "source": [
    "import random"
   ]
  },
  {
   "cell_type": "code",
   "execution_count": 7,
   "id": "bfc2f06b-5464-4812-bd60-6566214c851e",
   "metadata": {},
   "outputs": [
    {
     "data": {
      "text/plain": [
       "0.36352835585530807"
      ]
     },
     "execution_count": 7,
     "metadata": {},
     "output_type": "execute_result"
    }
   ],
   "source": [
    "random.seed(1984)\n",
    "random.random()"
   ]
  },
  {
   "cell_type": "code",
   "execution_count": 8,
   "id": "cb52e9bd-54ae-4c0e-aed5-03068b8ef39e",
   "metadata": {},
   "outputs": [
    {
     "data": {
      "text/plain": [
       "0.49420568181919666"
      ]
     },
     "execution_count": 8,
     "metadata": {},
     "output_type": "execute_result"
    }
   ],
   "source": [
    "random.random()"
   ]
  },
  {
   "cell_type": "code",
   "execution_count": 9,
   "id": "ff34ac7e-a66c-45a4-8fad-10cae88abc88",
   "metadata": {},
   "outputs": [
    {
     "name": "stdout",
     "output_type": "stream",
     "text": [
      "0.33961008717180197\n",
      "0.21648780903913534\n",
      "0.8626522767441037\n",
      "0.8493329421213219\n",
      "0.38578540884489343\n"
     ]
    }
   ],
   "source": [
    "for i in range(5):\n",
    "    print(random.random())"
   ]
  },
  {
   "cell_type": "code",
   "execution_count": 10,
   "id": "4f03f233-a60e-47e6-b5fc-b20f5a1c5faa",
   "metadata": {},
   "outputs": [
    {
     "name": "stdout",
     "output_type": "stream",
     "text": [
      "0.36352835585530807\n",
      "0.49420568181919666\n",
      "0.33961008717180197\n",
      "0.21648780903913534\n",
      "0.8626522767441037\n",
      "0.8493329421213219\n",
      "0.38578540884489343\n"
     ]
    }
   ],
   "source": [
    "random.seed(1984)\n",
    "for i in range(7):\n",
    "    print(random.random())"
   ]
  },
  {
   "cell_type": "code",
   "execution_count": null,
   "id": "b62296a2-9f6f-49fd-bdb8-5bef4eee4a0e",
   "metadata": {},
   "outputs": [],
   "source": []
  }
 ],
 "metadata": {
  "kernelspec": {
   "display_name": "Python 3 (ipykernel)",
   "language": "python",
   "name": "python3"
  },
  "language_info": {
   "codemirror_mode": {
    "name": "ipython",
    "version": 3
   },
   "file_extension": ".py",
   "mimetype": "text/x-python",
   "name": "python",
   "nbconvert_exporter": "python",
   "pygments_lexer": "ipython3",
   "version": "3.11.0"
  }
 },
 "nbformat": 4,
 "nbformat_minor": 5
}
